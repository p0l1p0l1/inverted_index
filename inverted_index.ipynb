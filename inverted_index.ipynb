{
  "cells": [
    {
      "cell_type": "markdown",
      "metadata": {
        "id": "gBsjtRThlMzI"
      },
      "source": [
        "**Part 1. Get Shakespeare’s sonnets**"
      ]
    },
    {
      "cell_type": "code",
      "execution_count": null,
      "metadata": {
        "id": "T-u_kNGIgzFX"
      },
      "outputs": [],
      "source": [
        "import requests\n",
        "import json\n",
        "import nltk\n",
        "from nltk import PorterStemmer\n",
        "sonnets_import = requests.get(\"https://poetrydb.org/author,title/Shakespeare;Sonnet\")\n",
        "sonnets_text = json.loads(sonnets_import.text)"
      ]
    },
    {
      "cell_type": "markdown",
      "metadata": {
        "id": "q0xWwuwPlQm0"
      },
      "source": [
        "**Part 2. Convert the list of dictionaries to a list of Sonnet instances**\n",
        "\n",
        "**Part 3. Add tokenization to your Sonnet class**\n",
        "\n",
        "**Part 4. Add stemming to the tokenization process**\n",
        "\n",
        "**Part 6.1 Adding a Document class**"
      ]
    },
    {
      "cell_type": "code",
      "execution_count": null,
      "metadata": {
        "id": "ZpUjnawIlIbw"
      },
      "outputs": [],
      "source": [
        "class Document:\n",
        "  def __init__(self, lines: list[str]):\n",
        "    self.lines = lines\n",
        "\n",
        "  def tokenize(self) -> list[str]:\n",
        "    tokens = []\n",
        "    for line in self.lines:\n",
        "      for mark in \".,':;!?\":\n",
        "        line = line.strip(mark)\n",
        "      tokens.extend(line.lower().split())\n",
        "    stemmer = PorterStemmer()\n",
        "    stemmed_tokens = [stemmer.stem(token) for token in tokens]\n",
        "    return stemmed_tokens\n",
        "\n",
        "class Sonnet(Document):\n",
        "  def __init__(self, dict):\n",
        "    full_title = dict[\"title\"].split(\": \", 1)\n",
        "    self.id = int(full_title[0][6:])\n",
        "    self.title = full_title[1]\n",
        "    self.author = dict[\"author\"]\n",
        "    super().__init__(dict[\"lines\"])\n",
        "    self.linecount = len(self.lines)\n",
        "\n",
        "  def __str__(self):\n",
        "    lines = \"\\n\".join(self.lines)\n",
        "    return f\"Sonnet {self.id}: {self.title}\\n{lines}\"\n",
        "\n",
        "sonnets = [Sonnet(sonnet) for sonnet in sonnets_text]"
      ]
    },
    {
      "cell_type": "markdown",
      "metadata": {
        "id": "DM2s0Zeax2m2"
      },
      "source": [
        "**Part 5. Creating the inverted index (3 points)**\n",
        "\n",
        "**Part 6.2 Adding a Query\n",
        "class**\n",
        "\n",
        "**Part 7. Adding the search to the Index**"
      ]
    },
    {
      "cell_type": "code",
      "execution_count": null,
      "metadata": {
        "id": "5nqtwJNRx371"
      },
      "outputs": [],
      "source": [
        "class Query(Document):\n",
        "  def __init__(self, query: str):\n",
        "    super().__init__([query])\n",
        "\n",
        "class Index(dict[str, set[int]]):\n",
        "    def __init__(self, documents: list[Sonnet]):\n",
        "        super().__init__()\n",
        "        self.documents = documents\n",
        "        for document in documents:\n",
        "            self.add(document)\n",
        "\n",
        "    def add(self, document: Sonnet):\n",
        "        tokens = document.tokenize()\n",
        "        for token in tokens:\n",
        "            if token not in self:\n",
        "                self[token] = {document.id}\n",
        "            else:\n",
        "                self[token].add(document.id)\n",
        "        return self\n",
        "\n",
        "    def get_set_for_token(self, token):\n",
        "        return self.get(token, set())\n",
        "\n",
        "    def search(self, query: Query) -> list[Sonnet]:\n",
        "      query_tokens = query.tokenize()\n",
        "      sets_to_intersect = [self.get_set_for_token(token) for token in query_tokens]\n",
        "      result_set = sorted(set.intersection(*sets_to_intersect))\n",
        "      self.pretty_print(result_set, query)\n",
        "      return result_set\n",
        "\n",
        "    def pretty_print(self, ids: set[int], query: list[Query]):\n",
        "      print(f'Your search for \"{\" \".join(query.lines)}\" matched {len(ids)} sonnet(s) ({\", \".join([str(id) for id in ids])}):\\n')\n",
        "      for id in ids:\n",
        "        print(self.documents[id-1], \"\\n\")\n",
        "\n",
        "index = Index(sonnets)"
      ]
    },
    {
      "cell_type": "markdown",
      "metadata": {
        "id": "JHbgfLDc-UlJ"
      },
      "source": [
        "**Part 8. Adding the user interface**\n"
      ]
    },
    {
      "cell_type": "code",
      "execution_count": null,
      "metadata": {
        "colab": {
          "background_save": true,
          "base_uri": "https://localhost:8080/"
        },
        "id": "gLo6YgVh-Yrr",
        "outputId": "17c2089a-eb30-4eff-a6a1-9cc2a6b96465"
      },
      "outputs": [
        {
          "name": "stdout",
          "output_type": "stream",
          "text": [
            "Reading sonnets...\n",
            "Your search for \"take give\" matched 2 sonnet(s) (37, 77):\n",
            "\n",
            "Sonnet 13: O! that you were your self; but, love you are\n",
            "O! that you were your self; but, love you are\n",
            "No longer yours, than you your self here live:\n",
            "Against this coming end you should prepare,\n",
            "And your sweet semblance to some other give:\n",
            "So should that beauty which you hold in lease\n",
            "Find no determination; then you were\n",
            "Yourself again, after yourself's decease,\n",
            "When your sweet issue your sweet form should bear.\n",
            "Who lets so fair a house fall to decay,\n",
            "Which husbandry in honour might uphold,\n",
            "Against the stormy gusts of winter's day\n",
            "And barren rage of death's eternal cold?\n",
            "  O! none but unthrifts. Dear my love, you know,\n",
            "  You had a father: let your son say so. \n",
            "\n",
            "Sonnet 52: So am I as the rich, whose blessed key\n",
            "So am I as the rich, whose blessed key,\n",
            "Can bring him to his sweet up-locked treasure,\n",
            "The which he will not every hour survey,\n",
            "For blunting the fine point of seldom pleasure.\n",
            "Therefore are feasts so solemn and so rare,\n",
            "Since, seldom coming in that long year set,\n",
            "Like stones of worth they thinly placed are,\n",
            "Or captain jewels in the carcanet.\n",
            "So is the time that keeps you as my chest,\n",
            "Or as the wardrobe which the robe doth hide,\n",
            "To make some special instant special-blest,\n",
            "By new unfolding his imprison'd pride.\n",
            "  Blessed are you whose worthiness gives scope,\n",
            "  Being had, to triumph; being lacked, to hope. \n",
            "\n"
          ]
        }
      ],
      "source": [
        "print(\"Reading sonnets...\")\n",
        "def request_input():\n",
        "  user_input = input(\"Search for sonnets ('q' to quit)> \")\n",
        "  return(user_input)\n",
        "\n",
        "user_input = request_input()\n",
        "while user_input != \"q\":\n",
        "  index.search(Query(user_input))\n",
        "  user_input = request_input()"
      ]
    }
  ],
  "metadata": {
    "colab": {
      "provenance": []
    },
    "kernelspec": {
      "display_name": "Python 3",
      "name": "python3"
    },
    "language_info": {
      "name": "python"
    }
  },
  "nbformat": 4,
  "nbformat_minor": 0
}